{
 "cells": [
  {
   "cell_type": "code",
   "execution_count": 2,
   "metadata": {
    "collapsed": true
   },
   "outputs": [],
   "source": [
    "import pandas as pd\n",
    "from os import path"
   ]
  },
  {
   "cell_type": "code",
   "execution_count": 3,
   "metadata": {
    "collapsed": false
   },
   "outputs": [
    {
     "name": "stdout",
     "output_type": "stream",
     "text": [
      "Shape (114321, 132) (114321,)\n",
      "Positive Instances 0.761198729892\n",
      "Negative Instances 0.238801270108\n"
     ]
    }
   ],
   "source": [
    "DATA_PATH = '/Users/neal/Desktop/kaggle-experiments/bnp/data'\n",
    "\n",
    "TRAIN = path.join(DATA_PATH, 'train.csv')\n",
    "TARGET_CLASS = 'target'\n",
    "\n",
    "data_set = pd.read_csv(TRAIN)\n",
    "\n",
    "X = data_set.drop(TARGET_CLASS, axis=1)\n",
    "y = data_set[TARGET_CLASS]\n",
    "\n",
    "print 'Shape', X.shape, y.shape\n",
    "print 'Positive Instances', float(len(y[y == 1]))/len(y)\n",
    "print 'Negative Instances', float(len(y[y == 0]))/len(y)\n"
   ]
  },
  {
   "cell_type": "code",
   "execution_count": null,
   "metadata": {
    "collapsed": true
   },
   "outputs": [],
   "source": []
  }
 ],
 "metadata": {
  "kernelspec": {
   "display_name": "Python 2",
   "language": "python",
   "name": "python2"
  },
  "language_info": {
   "codemirror_mode": {
    "name": "ipython",
    "version": 2
   },
   "file_extension": ".py",
   "mimetype": "text/x-python",
   "name": "python",
   "nbconvert_exporter": "python",
   "pygments_lexer": "ipython2",
   "version": "2.7.10"
  }
 },
 "nbformat": 4,
 "nbformat_minor": 0
}
